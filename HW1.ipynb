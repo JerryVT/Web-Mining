{
 "cells": [
  {
   "cell_type": "markdown",
   "id": "9ea7922c",
   "metadata": {},
   "source": [
    "### Importing Libraries"
   ]
  },
  {
   "cell_type": "code",
   "execution_count": 1,
   "id": "e67f6f08",
   "metadata": {},
   "outputs": [],
   "source": [
    "from selenium import webdriver\n",
    "from selenium.webdriver.support.ui import WebDriverWait\n",
    "from selenium.webdriver.support import expected_conditions as EC\n",
    "from selenium.webdriver.common.by import By\n",
    "import re, time,csv\n",
    "from selenium.common.exceptions import NoSuchElementException"
   ]
  },
  {
   "cell_type": "markdown",
   "id": "e5c2bd09",
   "metadata": {},
   "source": [
    "### Defining Function"
   ]
  },
  {
   "cell_type": "code",
   "execution_count": 7,
   "id": "5ec5805b",
   "metadata": {},
   "outputs": [],
   "source": [
    "def scrape(url):\n",
    "    output='output.csv'\n",
    "    \n",
    "    file_handler=open(output,'w',encoding='utf8')\n",
    "    \n",
    "    writer=csv.writer(file_handler,lineterminator='\\n')\n",
    "    \n",
    "    writer.writerow([\"Reviewer's Name\", 'Review Date', 'Review Text', 'Review Polarity']) #appends them to file in 1st row\n",
    "    \n",
    "    driver.get(url) # visit the reviews url for the given product\n",
    "    \n",
    "    while True: # keep going until there are no more review pages\n",
    "                 \n",
    "        driver.execute_script('window,scrollTo(0,document.body.scrollHeight)') #scroll down\n",
    "       \n",
    "        #get all the reviews in the page\n",
    "        reviews=driver.find_elements_by_class_name(\"review_table_row\")\n",
    "        \n",
    "        for review in reviews: # for each review\n",
    "            \n",
    "            name, date, text, polarity,='NA','NA','NA','NA' # Initialziing Attributes to NA\n",
    "            \n",
    "            # Name of Author\n",
    "            try:\n",
    "                nameBox = review.find_element_by_css_selector('[data-qa=\"review-critic-link\"]')\n",
    "            except:\n",
    "                nameBox = None \n",
    "               \n",
    "            if nameBox: name=nameBox.text  #retrieves text from titleBox\n",
    "            \n",
    "            # Date when review was posted\n",
    "            try: \n",
    "                dateBox=review.find_element_by_css_selector('[data-qa=\"review-date\"]')\n",
    "            except:\n",
    "                dateBox=None\n",
    "                \n",
    "            #box found, extract text\n",
    "            if dateBox: date=dateBox.text\n",
    "            \n",
    "            \n",
    "            # Review Comment\n",
    "            try: # try to find the review box\n",
    "                reviewBox=review.find_element_by_css_selector('[data-qa=\"review-text\"]')\n",
    "            except NoSuchElementException:\n",
    "                reviewBox=None\n",
    "           \n",
    "            #box found, extract text\n",
    "            if reviewBox: text = reviewBox.text\n",
    "                \n",
    "        \n",
    "            try: # try to find the rating box\n",
    "                #ratingBox=review.find_element_by_xpath(\"div[class^='review_icon icon small']\")\n",
    "                ratingBox = review.find_element_by_css_selector(\"div[class^='review_icon icon small']\")\n",
    "            except NoSuchElementException:\n",
    "                ratingBox=None\n",
    "                \n",
    "            if ratingBox:\n",
    "                ratingInfo=ratingBox.get_attribute('class') # get the class names mentioned in class attributes\n",
    "                #print('rating' + ratingInfo)\n",
    "                rating = ratingInfo.split(' ')   \n",
    "                \n",
    "                #rating=re.search(r'\\b[sS]\\f+|r+',ratingInfo)\n",
    "                \n",
    "                polarity = rating[-1]\n",
    "            \n",
    "            writer.writerow([ name, date, text, polarity])  # write the outputs obtained for current review to file\n",
    "        \n",
    "        #wait until the next Button loads\n",
    "        nextButton=WebDriverWait(driver,5).until(EC.presence_of_element_located((By.CSS_SELECTOR,'[data-qa=\"next-btn\"]')))\n",
    "        \n",
    "        # In final page, the class attribute of next Button has one more class called 'hide' \n",
    "        # It hides the button from view\n",
    "        if 'hide' in nextButton.get_attribute('class'): \n",
    "            break\n",
    "            \n",
    "        nextButton.click() # performs click on next button\n",
    "        \n",
    "        time.sleep(3)\n",
    "    \n",
    "    file_handler.close()"
   ]
  },
  {
   "cell_type": "markdown",
   "id": "52d8634d",
   "metadata": {},
   "source": [
    "### Creating object of webdriver"
   ]
  },
  {
   "cell_type": "code",
   "execution_count": 10,
   "id": "925e51ed",
   "metadata": {},
   "outputs": [
    {
     "name": "stderr",
     "output_type": "stream",
     "text": [
      "<ipython-input-10-c2e9cad52997>:1: DeprecationWarning: executable_path has been deprecated, please pass in a Service object\n",
      "  driver = webdriver.Chrome('./chromedriver')\n"
     ]
    }
   ],
   "source": [
    "driver = webdriver.Chrome('./chromedriver')"
   ]
  },
  {
   "cell_type": "code",
   "execution_count": 11,
   "id": "38bc9ea5",
   "metadata": {},
   "outputs": [],
   "source": [
    "driver.maximize_window()"
   ]
  },
  {
   "cell_type": "markdown",
   "id": "33ea17a4",
   "metadata": {},
   "source": [
    "### Specifying URL and Calling Function"
   ]
  },
  {
   "cell_type": "code",
   "execution_count": 12,
   "id": "cfd0b8b7",
   "metadata": {},
   "outputs": [],
   "source": [
    "# URL of the RottenTomatoes Movie review\n",
    "\n",
    "url='https://www.rottentomatoes.com/m/exodus_gods_and_kings/reviews'"
   ]
  },
  {
   "cell_type": "code",
   "execution_count": 13,
   "id": "e59e885f",
   "metadata": {},
   "outputs": [
    {
     "name": "stderr",
     "output_type": "stream",
     "text": [
      "<ipython-input-7-04885745b62e>:17: DeprecationWarning: find_elements_by_class_name is deprecated. Please use find_elements(by=By.CLASS_NAME, value=name) instead\n",
      "  reviews=driver.find_elements_by_class_name(\"review_table_row\")\n"
     ]
    }
   ],
   "source": [
    "scrape(url)"
   ]
  },
  {
   "cell_type": "code",
   "execution_count": null,
   "id": "ecc3a18f",
   "metadata": {},
   "outputs": [],
   "source": []
  }
 ],
 "metadata": {
  "kernelspec": {
   "display_name": "Python 3",
   "language": "python",
   "name": "python3"
  },
  "language_info": {
   "codemirror_mode": {
    "name": "ipython",
    "version": 3
   },
   "file_extension": ".py",
   "mimetype": "text/x-python",
   "name": "python",
   "nbconvert_exporter": "python",
   "pygments_lexer": "ipython3",
   "version": "3.8.8"
  }
 },
 "nbformat": 4,
 "nbformat_minor": 5
}
