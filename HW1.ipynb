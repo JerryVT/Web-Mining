{
 "cells": [
  {
   "cell_type": "markdown",
   "id": "9ea7922c",
   "metadata": {},
   "source": [
    "### Importing Libraries"
   ]
  },
  {
   "cell_type": "code",
   "execution_count": 1,
   "id": "e67f6f08",
   "metadata": {},
   "outputs": [],
   "source": [
    "from selenium import webdriver\n",
    "from selenium.webdriver.support.ui import WebDriverWait\n",
    "from selenium.webdriver.support import expected_conditions as EC\n",
    "from selenium.webdriver.common.by import By\n",
    "import re, time,csv\n",
    "from selenium.common.exceptions import NoSuchElementException"
   ]
  },
  {
   "cell_type": "markdown",
   "id": "e5c2bd09",
   "metadata": {},
   "source": [
    "### Defining Functions"
   ]
  },
  {
   "cell_type": "code",
   "execution_count": 74,
   "id": "5ec5805b",
   "metadata": {},
   "outputs": [],
   "source": [
    "def scrape(url):\n",
    "    output='movie_reviews.csv'\n",
    "    \n",
    "    file_handler=open(output,'w',encoding='utf8')\n",
    "    # creates an object of write to append parsed data from selenium to the csv file\n",
    "    writer=csv.writer(file_handler,lineterminator='\\n')\n",
    "    # appends first row with title, data,...\n",
    "    writer.writerow([\"reviewer's name\", 'review date', 'review text', 'review_polarity'])\n",
    "    \n",
    "    driver.get(url) # visit the reviews url for the given product\n",
    "    \n",
    "    while True: # keep going until there are no more review pages\n",
    "                 \n",
    "        #scroll down\n",
    "        driver.execute_script('window,scrollTo(0,document.body.scrollHeight)')\n",
    "        # the reason that we need to scroll down the page even though the script is going to find the content and next\n",
    "        # button is that, there are cases where button might be disabled, like Next button in this case\n",
    "        # this can be because we are still at the top of the page and thus the button wont be in focus, which in turn\n",
    "        # may make the button disabled\n",
    "        # Hence scrolling down changes focus till the end and hence next button wioll be in focus which in turn makes the button enabledvv\n",
    "        \n",
    "        #get all the reviews in the page\n",
    "        reviews=driver.find_elements_by_class_name(\"review_table_row\")\n",
    "        \n",
    "        for review in reviews: # for each review\n",
    "            \n",
    "            # Initialziing Attributes\n",
    "            name, date, text, polarity,='NA','NA','NA','NA'\n",
    "            \n",
    "            # Name of Author\n",
    "            try: # try to find the name\n",
    "                nameBox = review.find_element_by_css_selector('[data-qa=\"review-critic-link\"]')\n",
    "            except:\n",
    "                nameBox = None \n",
    "                # When inspecting element, we cant consider it as it doestn have the id to uniquely identify it\n",
    "               \n",
    "            #box found, extract text\n",
    "            if nameBox: name=nameBox.text  #retrieves text from titleBox as we dont need other contents \n",
    "            \n",
    "            # Date review was posted\n",
    "            try: # try to find the date box\n",
    "                dateBox=review.find_element_by_css_selector('[data-qa=\"review-date\"]')\n",
    "            except:\n",
    "                dateBox=None\n",
    "                \n",
    "            #box found, extract text\n",
    "            if dateBox: date=dateBox.text\n",
    "            \n",
    "            \n",
    "            # Review Comment\n",
    "            try: # try to find the review box\n",
    "                reviewBox=review.find_element_by_css_selector('[data-qa=\"review-text\"]')\n",
    "            except NoSuchElementException:\n",
    "                reviewBox=None\n",
    "           \n",
    "            #box found, extract text\n",
    "            if reviewBox: text = reviewBox.text\n",
    "                \n",
    "        \n",
    "            try: # try to find the rating box\n",
    "                #ratingBox=review.find_element_by_xpath(\"div[class^='review_icon icon small']\")\n",
    "                ratingBox = review.find_element_by_css_selector(\"div[class^='review_icon icon small']\")\n",
    "            except NoSuchElementException:\n",
    "                ratingBox=None\n",
    "                \n",
    "            #box found\n",
    "            if ratingBox:\n",
    "                ratingInfo=ratingBox.get_attribute('class') # get the text of class attribute\n",
    "                #print('rating' + ratingInfo)\n",
    "                rating = ratingInfo.split(' ')\n",
    "                #rating=re.search(r'\\b[sS]\\f+|r+',ratingInfo)  # look for the star rating from the class text\n",
    "                # re - regular expression\n",
    "                # group(1) denotes the first parenthesized element. Here the ele we need is what will be coming in place of (\\d)\n",
    "            \n",
    "                #polarity=rating.group(1) # extract the star rating\n",
    "                polarity = rating[-1]\n",
    "            \n",
    "            #write a new row\n",
    "            writer.writerow([ name, date, text, polarity])\n",
    "            \n",
    "        \n",
    "        #wait until the next Button loads\n",
    "            \n",
    "        nextButton=WebDriverWait(driver,5).until(EC.presence_of_element_located((By.CSS_SELECTOR,'[data-qa=\"next-btn\"]')))\n",
    "        \n",
    "        \n",
    "        if 'hide' in nextButton.get_attribute('class'): # final page reached, 'next' button is disabled on this page\n",
    "            break\n",
    "            \n",
    "        #click on the next Button\n",
    "        nextButton.click()\n",
    "        \n",
    "        #wait for a few seconds\n",
    "        time.sleep(3)\n",
    "    \n",
    "\n",
    "    file_handler.close()"
   ]
  },
  {
   "cell_type": "code",
   "execution_count": null,
   "id": "01ed4d4d",
   "metadata": {},
   "outputs": [],
   "source": []
  },
  {
   "cell_type": "code",
   "execution_count": 52,
   "id": "925e51ed",
   "metadata": {},
   "outputs": [
    {
     "name": "stderr",
     "output_type": "stream",
     "text": [
      "<ipython-input-52-c2e9cad52997>:1: DeprecationWarning: executable_path has been deprecated, please pass in a Service object\n",
      "  driver = webdriver.Chrome('./chromedriver')\n"
     ]
    }
   ],
   "source": [
    "driver = webdriver.Chrome('./chromedriver')"
   ]
  },
  {
   "cell_type": "code",
   "execution_count": 53,
   "id": "38bc9ea5",
   "metadata": {},
   "outputs": [],
   "source": [
    "driver.maximize_window()"
   ]
  },
  {
   "cell_type": "code",
   "execution_count": 55,
   "id": "cfd0b8b7",
   "metadata": {},
   "outputs": [],
   "source": [
    "url='https://www.rottentomatoes.com/m/exodus_gods_and_kings/reviews'\n",
    "\n"
   ]
  },
  {
   "cell_type": "code",
   "execution_count": 75,
   "id": "e59e885f",
   "metadata": {},
   "outputs": [
    {
     "name": "stderr",
     "output_type": "stream",
     "text": [
      "<ipython-input-74-99016b102cb3>:23: DeprecationWarning: find_elements_by_class_name is deprecated. Please use find_elements(by=By.CLASS_NAME, value=name) instead\n",
      "  reviews=driver.find_elements_by_class_name(\"review_table_row\")\n"
     ]
    }
   ],
   "source": [
    "scrape(url)"
   ]
  },
  {
   "cell_type": "code",
   "execution_count": null,
   "id": "b1072ff2",
   "metadata": {},
   "outputs": [],
   "source": []
  }
 ],
 "metadata": {
  "kernelspec": {
   "display_name": "Python 3",
   "language": "python",
   "name": "python3"
  },
  "language_info": {
   "codemirror_mode": {
    "name": "ipython",
    "version": 3
   },
   "file_extension": ".py",
   "mimetype": "text/x-python",
   "name": "python",
   "nbconvert_exporter": "python",
   "pygments_lexer": "ipython3",
   "version": "3.8.8"
  }
 },
 "nbformat": 4,
 "nbformat_minor": 5
}
